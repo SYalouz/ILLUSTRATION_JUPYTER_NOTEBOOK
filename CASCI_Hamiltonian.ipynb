{
 "cells": [
  {
   "cell_type": "markdown",
   "id": "f201ac39",
   "metadata": {},
   "source": [
    "# Building an effective CASCI Hamiltonian with Openfermion and PySCF\n",
    "\n",
    "\n",
    "I describe how to build a frozen core Hamiltonian in practice. \n",
    "We start from the original shape of the second quantized electronic Hamiltonian\n",
    "\\begin{equation}\n",
    "\\mathcal{\\hat{H}}  = \\sum_{pq}^{N_{MOs}} h_{pq}  \\hat{E}_{pq} + \\dfrac{1}{2} \\sum_{pqrs}^{N_{MOs}} g_{pqrs}  \\hat{e}_{pqrs}.\n",
    "\\label{eq:Ham_elec_}\n",
    "\\end{equation}\n",
    "With the spin-free excitation operators\n",
    "$$ \\hat{E}_{pq} = \\sum_\\sigma a^\\dagger_{p,\\sigma} a_{q,\\sigma}$$\n",
    "\n",
    "Two-body excitation operator\n",
    "$$ \\hat{e}_{pqrs} = \\hat{E}_{pq} \\hat{E}_{rs} - \\delta_{rq} \\hat{E}_{ps} $$\n",
    "\n",
    "Applying the frozen core approximation to this Hamiltonian consists in assuming the existence of a set of frozen orbitals (always occupied), another set of active orbitals (belonging to an active space), and a set of virtual orbitals (always unoccupied). \n",
    "Based on this partitioning, every Slater determinant $|\\Phi\\rangle$ used to describe properties of the system will always take the form \n",
    "\\begin{equation}\n",
    "    |\\Phi\\rangle = | \\Phi_\\text{frozen}\\Phi_\\text{active} \\rangle,\n",
    "    \\label{eq:state}\n",
    "\\end{equation}\n",
    "\n",
    "where the left contribution $\\Phi_{\\rm frozen}$ represents a part of the determinant encoding the frozen orbitals of the system (always occupied) whereas $\\Phi_{\\rm AS}$ is a part encoding the occupancy of the remaining electrons in the active orbitals of the system. \n",
    "Thus, if one considers that every correlated electronic wavefunction is always expanding in terms of Slater determinants following Eq.(\\ref{eq:state}), one can demonstrate by projections onto Eq.(\\ref{eq:Ham_elec_}) that the system Hamiltonian takes an effective form \n",
    "\\begin{eqnarray}\\label{eq:Ham_elec}\n",
    "\\langle\\Phi| \\mathcal{\\hat{H}} | \\Phi \\rangle \\equiv \\langle \\Phi_{\\rm active} | \\mathcal{\\hat{H}}^{\\rm FC} | \\Phi_{\\rm active} \\rangle,\n",
    "\\end{eqnarray}\n",
    "\n",
    "with $\\mathcal{\\hat{H}}^\\text{FC}$ the so-called ''frozen core Hamiltonian'' defined as follows,\n",
    "\\begin{equation}\n",
    "\\mathcal{\\hat{H}}^\\text{FC} = \\mathcal{\\hat{H}}_\\text{active}  + \\hat{\\mathcal{V}} + E_\\text{frozen}^\\text{MF}. \n",
    "\\end{equation}\n",
    "\n",
    "Here, $\\mathcal{\\hat{H}}_\\text{active}$ is the Hamiltonian encoding the one- and two- body terms only acting in the active space,\n",
    "\\begin{equation}\n",
    "\\label{eq:AS_HAM}\n",
    "\\mathcal{\\hat{H}}_\\text{active} = \\sum_{tu}^\\text{active} h_{tu} \\hat{E}_{tu} + \\sum_{tuvw}^\\text{active} g_{tuvw} \\hat{e}_{tuvw},\n",
    "\\end{equation}\n",
    "\n",
    "where $t,u,v,w$ denote active space orbitals.\n",
    "The second term $E_{\\rm frozen}^{\\rm MF}$ is a scalar representing the mean-field-like energy obtained from the frozen orbitals,\n",
    "\\begin{equation}\n",
    "    E_\\text{frozen}^\\text{MF} = 2\\sum_i^\\text{frozen} h_{ii} + \\sum_{ij}^\\text{frozen} (2g_{iijj}- g_{ijji}),\n",
    "    \\label{eq:shift}\n",
    "\\end{equation}\n",
    "and the third term\n",
    "\\begin{equation}\n",
    "\\label{eq:emb}\n",
    "\\mathcal{\\hat{V}} = \\sum_{tu}^\\text{active} \\mathcal{V}_{tu} \\hat{E}_{tu} \\text{, with } \\mathcal{V}_{tu} =  \\sum_i^\\text{frozen} (2g_{tuii}- g_{tiiu} )\n",
    "\\end{equation}\n",
    "\n",
    "represents an effective one body potential which encodes the interaction of the frozen electrons with the active space electrons. To summarize, the main effect of the frozen core approximation [Eq.(\\ref{eq:Ham_elec})] is first to introduce an energetic shift [Eq.(\\ref{eq:shift})], and second to augment the one body term of the Hamiltonian operator [Eq.(\\ref{eq:AS_HAM})] (that only lives in the active space) with an additional effective one body operator [Eq.(\\ref{eq:emb})]. "
   ]
  },
  {
   "cell_type": "code",
   "execution_count": 12,
   "id": "0afde5ef",
   "metadata": {},
   "outputs": [],
   "source": [
    "import sys,os\n",
    "import numpy as np\n",
    "import sympy\n",
    "import openfermion\n",
    "from openfermion import ops\n",
    "import psi4\n",
    "import cirq\n",
    "import math as m\n",
    "from scipy.optimize import minimize\n",
    "from optimparallel import minimize_parallel\n",
    "import matplotlib.pyplot as plt\n",
    "import scipy\n",
    "from tqdm import tqdm  \n",
    "from openfermion import ops, InteractionOperator, get_sparse_operator, jordan_wigner, FermionOperator\n",
    "from pyscf import fci\n",
    "from pyscf import gto, scf, ao2mo, mcscf\n",
    "\n",
    "np.set_printoptions(precision=1) # For nice matrix printing"
   ]
  },
  {
   "cell_type": "markdown",
   "id": "c569dd15",
   "metadata": {},
   "source": [
    "## Building a CASCI Hamiltonian with Openfermion\n",
    "\n",
    "### Here I build the spin free operator in fermionic representation \n",
    "\n",
    "One-body excitation operator\n",
    "$$ \\hat{E}_{pq} = \\sum_\\sigma a^\\dagger_{p,\\sigma} a_{q,\\sigma}$$\n",
    "\n",
    "Two-body excitation operator\n",
    "$$ \\hat{e}_{pqrs} = \\hat{E}_{pq} \\hat{E}_{rs} - \\delta_{rq} \\hat{E}_{ps} $$"
   ]
  },
  {
   "cell_type": "code",
   "execution_count": null,
   "id": "ae8dbd37",
   "metadata": {},
   "outputs": [],
   "source": [
    "# ============================================================================================ \n",
    "# Useful fermionic operators  \n",
    "# ============================================================================================\n",
    "def E_( P, Q ):\n",
    "    \"\"\"\n",
    "    >>>>>>>>>>>>>>>>>>>>>>>>>>>>>>>>>>>>>>>>>>>>>>>>>>>>>>>>>>>>>>>>>>>>>>>>\n",
    "    Function to create a fermionic singlet excitation operator : E_pq  \n",
    "    >>>>>>>>>>>>>>>>>>>>>>>>>>>>>>>>>>>>>>>>>>>>>>>>>>>>>>>>>>>>>>>>>>>>>>>>\n",
    "    \"\"\"\n",
    "    OP = (  ops.FermionOperator('{}^ {}'.format( 2*P, 2*Q )) \n",
    "          + ops.FermionOperator('{}^ {}'.format( 2*P+1, 2*Q+1 )) )  \n",
    "    \n",
    "    return OP\n",
    "\n",
    "def e_( P, Q, R, S ):\n",
    "    \"\"\"\n",
    "    >>>>>>>>>>>>>>>>>>>>>>>>>>>>>>>>>>>>>>>>>>>>>>>>>>>>>>>>>>>>>>>>>>>>>>>>\n",
    "    Function to create a two-body excitation operator : e_pqrs\n",
    "    >>>>>>>>>>>>>>>>>>>>>>>>>>>>>>>>>>>>>>>>>>>>>>>>>>>>>>>>>>>>>>>>>>>>>>>>\n",
    "    \"\"\"\n",
    "    OP = E_( P, Q ) * E_( R, S )\n",
    "    if ( Q == R ): OP += - E_( P, S )\n",
    "        \n",
    "    return OP  "
   ]
  },
  {
   "cell_type": "markdown",
   "id": "10a93912",
   "metadata": {},
   "source": [
    "## RHF calculation on $H_4$ to get the systems integrals $g_{pqrs}$ and $h_{pq}$"
   ]
  },
  {
   "cell_type": "code",
   "execution_count": 13,
   "id": "933fc78c",
   "metadata": {},
   "outputs": [
    {
     "name": "stdout",
     "output_type": "stream",
     "text": [
      "converged SCF energy = -1.77059540295997\n",
      "CASCI E = -1.83861496609746  E(CI) = -0.954508724605245  S^2 = 0.0000000\n"
     ]
    }
   ],
   "source": [
    "r     = 1.\n",
    "theta = 87.58620689655172  * m.pi/180.\n",
    "\n",
    "XYZ_geometry =  ''' H   {0}   {1}  0.\n",
    "                    H   {0}  -{1}  0.\n",
    "                    H  -{0}   {1}  0.\n",
    "                    H  -{0}  -{1}  0.'''.format( r*m.cos(theta/2.), r*m.sin(theta/2.) )\n",
    "N_MOs  = 4\n",
    "N_elec = 4 \n",
    "\n",
    "frozen_occupied_indices = [ 0 ]\n",
    " \n",
    "mol = gto.Mole()\n",
    "mol.build( atom     = XYZ_geometry,  # in Angstrom\n",
    "           basis    = 'STO-3G',\n",
    "           symmetry = False,\n",
    "           spin     = 0)\n",
    "E_rep_nuc = mol.energy_nuc()  \n",
    "mf = scf.RHF(mol)  \n",
    "mf.kernel()\n",
    "\n",
    "# Getting the 1- and 2-electron integrals from AO basis to MO basis\n",
    "h_MO = np.einsum('pi,pq,qj->ij', mf.mo_coeff,\n",
    "                 mol.intor_symmetric('int1e_kin') + mol.intor_symmetric('int1e_nuc'),\n",
    "                 mf.mo_coeff) \n",
    "\n",
    "g_MO = ao2mo.restore('s1', ao2mo.kernel( mol, mf.mo_coeff ), N_MOs)\n",
    "\n",
    "CASCI_solver = mcscf.CASCI( mf, 2, 2 ) \n",
    "CASCI_solver.fix_spin( ss=0 )   # <== Without this the CASCI calculation returns a Spin=2 result\n",
    "E_CASCI = CASCI_solver.kernel() "
   ]
  },
  {
   "cell_type": "markdown",
   "id": "7c1944ad",
   "metadata": {},
   "source": [
    "## Creating the \"effective\" active space integrals\n",
    "\n",
    " \n",
    " $$h_{tu} \\longrightarrow \\text{ 1-electron integral in active space} $$\n",
    " \n",
    " $$g_{tuvw} \\longrightarrow \\text{ 2-electron integral in active space}$$ \n",
    " \n",
    " $$ \\mathcal{V}_{tu} =  \\sum_i^\\text{frozen} (2g_{tuii}- g_{tiiu} ) \\longrightarrow \\text{ Effective potential}$$"
   ]
  },
  {
   "cell_type": "code",
   "execution_count": 14,
   "id": "707f916c",
   "metadata": {},
   "outputs": [],
   "source": [
    "# 1-electron integral in the active space  \n",
    "h_MO_active = ( h_MO[1:3,1:3] ).copy()\n",
    "\n",
    "# 2-electron integral in the active space  \n",
    "g_MO_active = ( g_MO[1:3,1:3,1:3,1:3] ).copy()\n",
    "\n",
    "# Building the effective potential\n",
    "V_active = np.zeros_like(h_MO_active)\n",
    "for p in range(np.shape(h_MO_active)[0]):\n",
    "    for q in range(np.shape(h_MO_active)[0]): \n",
    "        for i in frozen_occupied_indices: \n",
    "            p_ =  p + len(frozen_occupied_indices)\n",
    "            q_ =  q + len(frozen_occupied_indices)\n",
    "            V_active[p,q] += 2 * g_MO[p_,q_,i,i] - g_MO[p_,i,i,q_]"
   ]
  },
  {
   "cell_type": "markdown",
   "id": "7a64689a",
   "metadata": {},
   "source": [
    "## Creating the meanfield contribution\n",
    "\n",
    "\\begin{equation}\n",
    "    E_\\text{frozen}^\\text{MF} = 2\\sum_i^\\text{frozen} h_{ii} + \\sum_{ij}^\\text{frozen} (2g_{iijj}- g_{ijji}), \n",
    "\\end{equation}"
   ]
  },
  {
   "cell_type": "code",
   "execution_count": 15,
   "id": "4c9cb990",
   "metadata": {},
   "outputs": [
    {
     "name": "stdout",
     "output_type": "stream",
     "text": [
      " Mean-field contribution =  -2.9110194970631382\n"
     ]
    }
   ],
   "source": [
    "E_core_meanfield = 0\n",
    "for i in frozen_occupied_indices: \n",
    "    E_core_meanfield += 2 * h_MO[i,i]\n",
    "    for j in frozen_occupied_indices: \n",
    "        E_core_meanfield += 2 * g_MO[i,i,j,j] - g_MO[i,j,j,i]\n",
    "        \n",
    "print(\" Mean-field contribution = \", E_core_meanfield)"
   ]
  },
  {
   "cell_type": "markdown",
   "id": "5352605f",
   "metadata": {},
   "source": [
    "## Building the effective Hamiltonian with openfermion\n",
    "\n",
    "\\begin{equation} \n",
    "\\mathcal{\\hat{H}}^\\text{FC} =    \\sum_{tu}^\\text{active} \\tilde{h}_{tu} \\hat{E}_{tu} + \\sum_{tuvw}^\\text{active} g_{tuvw} \\hat{e}_{tuvw},\n",
    "\\end{equation}\n",
    "\n",
    "With the redefinition of the active space 1-electron integrals\n",
    "\\begin{equation}\n",
    "\\tilde{h}_{tu} = h_{tu} + \\mathcal{V}_{tu}\n",
    "\\end{equation}\n",
    "\n",
    "### First with a fermionic representation "
   ]
  },
  {
   "cell_type": "code",
   "execution_count": 16,
   "id": "5f814357",
   "metadata": {},
   "outputs": [
    {
     "name": "stdout",
     "output_type": "stream",
     "text": [
      "-0.8841062414922134 [] +\n",
      "-0.9358274157434924 [0^ 0] +\n",
      "0.22278517069324905 [0^ 0 0^ 0] +\n",
      "0.22278517069324905 [0^ 0 1^ 1] +\n",
      "0.21810479419508289 [0^ 0 2^ 2] +\n",
      "0.21810479419508289 [0^ 0 3^ 3] +\n",
      "0.04701249362311437 [0^ 2 0^ 2] +\n",
      "0.04701249362311437 [0^ 2 1^ 3] +\n",
      "0.04701249362311437 [0^ 2 2^ 0] +\n",
      "0.04701249362311437 [0^ 2 3^ 1] +\n",
      "-0.9358274157434924 [1^ 1] +\n",
      "0.22278517069324905 [1^ 1 0^ 0] +\n",
      "0.22278517069324905 [1^ 1 1^ 1] +\n",
      "0.21810479419508289 [1^ 1 2^ 2] +\n",
      "0.21810479419508289 [1^ 1 3^ 3] +\n",
      "0.04701249362311437 [1^ 3 0^ 2] +\n",
      "0.04701249362311437 [1^ 3 1^ 3] +\n",
      "0.04701249362311437 [1^ 3 2^ 0] +\n",
      "0.04701249362311437 [1^ 3 3^ 1] +\n",
      "0.04701249362311437 [2^ 0 0^ 2] +\n",
      "0.04701249362311437 [2^ 0 1^ 3] +\n",
      "0.04701249362311437 [2^ 0 2^ 0] +\n",
      "0.04701249362311437 [2^ 0 3^ 1] +\n",
      "-0.90407348740611 [2^ 2] +\n",
      "0.2181047941950828 [2^ 2 0^ 0] +\n",
      "0.2181047941950828 [2^ 2 1^ 1] +\n",
      "0.22239653467187132 [2^ 2 2^ 2] +\n",
      "0.22239653467187132 [2^ 2 3^ 3] +\n",
      "0.04701249362311437 [3^ 1 0^ 2] +\n",
      "0.04701249362311437 [3^ 1 1^ 3] +\n",
      "0.04701249362311437 [3^ 1 2^ 0] +\n",
      "0.04701249362311437 [3^ 1 3^ 1] +\n",
      "-0.90407348740611 [3^ 3] +\n",
      "0.2181047941950828 [3^ 3 0^ 0] +\n",
      "0.2181047941950828 [3^ 3 1^ 1] +\n",
      "0.22239653467187132 [3^ 3 2^ 2] +\n",
      "0.22239653467187132 [3^ 3 3^ 3]\n"
     ]
    }
   ],
   "source": [
    "h_MO_active = h_MO_active + V_active # <== Effective active space 1-electron integrals \n",
    "\n",
    "N_active_MOs = 2\n",
    "Hamiltonian = ops.FermionOperator(' ') * 0\n",
    "for p in range(N_active_MOs):\n",
    "    for q in range(N_active_MOs):\n",
    "        \n",
    "        Hamiltonian +=  h_MO_active[p,q] * E_( p, q )\n",
    "        \n",
    "        for r in range(N_active_MOs):\n",
    "            for s in range(N_active_MOs):\n",
    "                \n",
    "                Hamiltonian += 0.5 * g_MO_active[p,q,r,s] * e_( p, q, r, s )\n",
    "\n",
    "Hamiltonian += E_rep_nuc + E_core_meanfield\n",
    "print( Hamiltonian )"
   ]
  },
  {
   "cell_type": "markdown",
   "id": "458c5006",
   "metadata": {},
   "source": [
    "### Which I transform into the qubit representation with a Jordan Wigner transformation \n",
    "\n",
    "\\begin{equation} \n",
    "\\mathcal{\\hat{H}}^\\text{FC}  \\xrightarrow{\\text{J-W}}   \\sum_k h_k \\mathcal{P}_k\n",
    "\\end{equation}\n",
    "\n",
    "with $\\mathcal{P}_k$ the so-called \"Pauli-strings\" stemming from the transformation\n",
    "\n",
    "\\begin{equation}\n",
    "\\begin{split}\n",
    "     a_p \\xrightarrow{\\text{J-W}} \\frac{1}{2}(X_p +iY_p) \\bigotimes_{q=0}^{p-1} Z_l\\\\\n",
    "    a_p^\\dagger \\xrightarrow{\\text{J-W}} \\frac{1}{2}(X_p -iY_p) \\bigotimes_{q=0}^{p-1} Z_q   \n",
    "\\end{split}\n",
    "\\end{equation}\n"
   ]
  },
  {
   "cell_type": "code",
   "execution_count": 17,
   "id": "7e172c38",
   "metadata": {},
   "outputs": [
    {
     "name": "stdout",
     "output_type": "stream",
     "text": [
      "(-1.5730125045808547+0j) [] +\n",
      "(-0.023506246811557188+0j) [X0 X1 Y2 Y3] +\n",
      "(0.023506246811557188+0j) [X0 Y1 Y2 X3] +\n",
      "(0.023506246811557188+0j) [Y0 X1 X2 Y3] +\n",
      "(-0.023506246811557188+0j) [Y0 Y1 X2 X3] +\n",
      "(0.027023742983414305+0j) [Z0] +\n",
      "(0.11139258534662452+0j) [Z0 Z1] +\n",
      "(0.08554615028598424+0j) [Z0 Z2] +\n",
      "(0.10905239709754141+0j) [Z0 Z3] +\n",
      "(0.027023742983414277+0j) [Z1] +\n",
      "(0.10905239709754141+0j) [Z1 Z2] +\n",
      "(0.08554615028598424+0j) [Z1 Z3] +\n",
      "(0.011535414836100849+0j) [Z2] +\n",
      "(0.11119826733593566+0j) [Z2 Z3] +\n",
      "(0.011535414836100835+0j) [Z3]\n"
     ]
    }
   ],
   "source": [
    "Hamiltonian_qubit = jordan_wigner( Hamiltonian )\n",
    "print(Hamiltonian_qubit)"
   ]
  },
  {
   "cell_type": "markdown",
   "id": "8e1f8077",
   "metadata": {},
   "source": [
    "## This Hamiltonian is associated to a matrix representation in the computational basis"
   ]
  },
  {
   "cell_type": "code",
   "execution_count": 18,
   "id": "00747a62",
   "metadata": {},
   "outputs": [
    {
     "data": {
      "text/plain": [
       "<matplotlib.image.AxesImage at 0x121ab1130>"
      ]
     },
     "execution_count": 18,
     "metadata": {},
     "output_type": "execute_result"
    },
    {
     "data": {
      "image/png": "[encoded data removed]",
      "text/plain": [
       "<Figure size 432x288 with 1 Axes>"
      ]
     },
     "metadata": {
      "needs_background": "light"
     },
     "output_type": "display_data"
    }
   ],
   "source": [
    "Hamiltonian_matrix_qubit = get_sparse_operator( Hamiltonian_qubit ).A \n",
    " \n",
    "plt.spy( Hamiltonian_matrix_qubit )\n",
    "# print(Hamiltonian_matrix_qubit)"
   ]
  },
  {
   "cell_type": "markdown",
   "id": "dbc469ad",
   "metadata": {},
   "source": [
    "## Diagonalizing the matrix "
   ]
  },
  {
   "cell_type": "code",
   "execution_count": 19,
   "id": "ef8408b2",
   "metadata": {},
   "outputs": [],
   "source": [
    "num_qubits = 4\n",
    "N_elec = 2 \n",
    "number_operator = ops.FermionOperator('0^ 0')\n",
    "for i in range(1,num_qubits):\n",
    "    number_operator += ops.FermionOperator( '{0}^ {0}'.format(i) )\n",
    "    \n",
    "# We build the projector onto the subspace spanning the 4 electrons fock states \n",
    "number_operator_jw     = openfermion.transforms.jordan_wigner(number_operator)\n",
    "number_operator_sparse = openfermion.get_sparse_operator(number_operator_jw) \n",
    "number_operator_eig    = scipy.linalg.eigh(number_operator_sparse.A)\n",
    "n_projector_basis      = number_operator_eig[1][ :,   number_operator_eig[0] == N_elec  ] \n",
    "n_projector = np.einsum('ji, ki', n_projector_basis, n_projector_basis.conjugate(), optimize=True)\n",
    "\n",
    "S2 = openfermion.hamiltonians.s_squared_operator( n_spatial_orbitals = 2 )\n",
    "S2 = get_sparse_operator( jordan_wigner(S2) ).A\n",
    "S2_eig = scipy.linalg.eigh( S2 )\n",
    "Singlet_projector_basis = S2_eig[1][ :, S2_eig[0] < 1e-4]\n",
    "Singlet_projector = np.einsum('ji, ki', Singlet_projector_basis,\n",
    "                              Singlet_projector_basis.conjugate(),\n",
    "                              optimize=True)"
   ]
  },
  {
   "cell_type": "markdown",
   "id": "e8ffa0f5",
   "metadata": {},
   "source": [
    "### I compare the results of my OpenFermion Hamiltonian to PySCf native CASCI calculation"
   ]
  },
  {
   "cell_type": "code",
   "execution_count": 20,
   "id": "3e48aae5",
   "metadata": {},
   "outputs": [
    {
     "name": "stdout",
     "output_type": "stream",
     "text": [
      "PySCF native CASCI calculation  : -1.838614966097458\n",
      "Diagonalizing my OF Hamiltonian : -1.8386149660974478\n"
     ]
    }
   ],
   "source": [
    "eigvals, eigvecs = scipy.linalg.eigh( Singlet_projector @ Hamiltonian_matrix_qubit @ Singlet_projector )\n",
    "\n",
    "print(\"PySCF native CASCI calculation  :\", E_CASCI[0]) \n",
    "print('Diagonalizing my OF Hamiltonian :', eigvals[0]) "
   ]
  },
  {
   "cell_type": "markdown",
   "id": "a2056e59",
   "metadata": {},
   "source": [
    "## Last thing: let's build a custom quantum chemistry Hamiltonian with PySCF !\n",
    "\n",
    "If we have electronic integrals (and Energy constants) we can build a custom quanutm chemistry Hamiltonian with PySCF and solve the latter with a FCI calculation. "
   ]
  },
  {
   "cell_type": "code",
   "execution_count": 21,
   "id": "6c6cddaf",
   "metadata": {},
   "outputs": [
    {
     "name": "stdout",
     "output_type": "stream",
     "text": [
      "converged SCF energy = -1.77059540295997\n",
      "PySCF native CASCI calculation  : -1.838614966097458\n",
      "Diagonalizing my OF Hamiltonian : -1.8386149660974478\n",
      "PySCF FCI energy of custom Ham  : -1.8386149660974578\n"
     ]
    },
    {
     "name": "stderr",
     "output_type": "stream",
     "text": [
      "Warning: <pyscf.gto.mole.Mole object at 0x121c22580> must be initialized before calling SCF.\n",
      "Initialize <pyscf.gto.mole.Mole object at 0x121c22580> in <pyscf.scf.hf.RHF object at 0x121c22190>\n"
     ]
    }
   ],
   "source": [
    "E_core = E_rep_nuc + E_core_meanfield \n",
    "\n",
    "# Introduce a new molecule instance in PySCF\n",
    "mol_new = gto.Mole()\n",
    "mol_new.nelectron = 2\n",
    "mol_new.incore_anyway = True\n",
    "N_MOs = 2\n",
    "\n",
    "# Mean-field calculation\n",
    "mf = scf.RHF( mol_new )\n",
    "mf.get_hcore = lambda *args: h_MO_active         # Defining the H_core integrals\n",
    "mf.get_ovlp  = lambda *args: np.eye(N_MOs)       # We set the MO overlap to identity \n",
    "mf._eri = ao2mo.restore(1, g_MO_active ,  N_MOs) # Storing the 2-electron integral\n",
    "mol_new.energy_nuc = lambda *args: E_core        # We define the energy constant of the Hamiltonian  \n",
    "mf.init_guess = '1e' # H_core as the guess for the Mean-field HF calculation\n",
    "mf.kernel() \n",
    " \n",
    "# Full-CI resolution of the custom Hamiltonian\n",
    "FCI_solver = fci.FCI( mf, mf.mo_coeff, singlet=True   ) \n",
    "E_FCI, Wfn_FCI = FCI_solver.kernel()\n",
    "print(\"PySCF native CASCI calculation  :\", E_CASCI[0]) \n",
    "print('Diagonalizing my OF Hamiltonian :', eigvals[0]) \n",
    "print('PySCF FCI energy of custom Ham  :', E_FCI )  "
   ]
  },
  {
   "cell_type": "code",
   "execution_count": null,
   "id": "ae399bfe",
   "metadata": {},
   "outputs": [],
   "source": []
  }
 ],
 "metadata": {
  "kernelspec": {
   "display_name": "Python [conda env:Saad_Env] *",
   "language": "python",
   "name": "conda-env-Saad_Env-py"
  },
  "language_info": {
   "codemirror_mode": {
    "name": "ipython",
    "version": 3
   },
   "file_extension": ".py",
   "mimetype": "text/x-python",
   "name": "python",
   "nbconvert_exporter": "python",
   "pygments_lexer": "ipython3",
   "version": "3.9.7"
  },
  "latex_envs": {
   "LaTeX_envs_menu_present": true,
   "autoclose": true,
   "autocomplete": true,
   "bibliofile": "biblio.bib",
   "cite_by": "apalike",
   "current_citInitial": 1,
   "eqLabelWithNumbers": true,
   "eqNumInitial": 1,
   "hotkeys": {
    "equation": "meta-e"
   },
   "labels_anchors": false,
   "latex_user_defs": false,
   "report_style_numbering": true,
   "user_envs_cfg": true
  },
  "toc": {
   "base_numbering": 1,
   "nav_menu": {},
   "number_sections": true,
   "sideBar": false,
   "skip_h1_title": true,
   "title_cell": "Table of Contents",
   "title_sidebar": "Contents",
   "toc_cell": false,
   "toc_position": {},
   "toc_section_display": true,
   "toc_window_display": true
  }
 },
 "nbformat": 4,
 "nbformat_minor": 5
}
