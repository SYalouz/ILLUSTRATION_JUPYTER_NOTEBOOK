{
 "cells": [
  {
   "cell_type": "markdown",
   "metadata": {},
   "source": [
    "# <center> Von Neuman Entropy in quantum systems : a simple illustration"
   ]
  },
  {
   "cell_type": "markdown",
   "metadata": {},
   "source": [
    "#### $\\bullet$ _Abstract_ : Our goal here is to give a simple illustration of the concept of Von Neuman entropy in quantum physics. To do so, we consider a very simple system composed of two two-level systems. Starting with a well known state for the global system, we demonstrate how the correlations arising between the two sub-systems, also called \"entanglement\", can affect the information we can have on only one subsystem. \n",
    "\n",
    "### I) Introduction : two different two-level systems\n",
    "\n",
    "For the sake of simplicity, we will consider in this study a  supersystem $S$ composed of two different two-level systems called respectively $A$ and $B$. Each subsystem is composed of a ground state noted $| 0_{i} \\rangle$ and an excited state noted $| 1_{i} \\rangle$ with $i=A$ or $B$.\n",
    "\n",
    "<img src=\"2lvl.png\" width=\"400\" />\n",
    "\n",
    "In the following, we will consider that the quantum state of $S=A+B$ can be represented by a single ket \n",
    "\n",
    "$$ | \\Psi_{AB} \\rangle $$\n",
    "\n",
    "encoding all the properties of the supersystem. \n",
    "\n",
    "Here, the global system $S$ behaves as a closed quantum system. In other words, $S$ is totally isolated and doesn't interact with the rest of the world (no external environment, no relaxation, no decoherence ...). In this context, we will consider that we have a full access to the quantum state  $| \\Psi_{AB} \\rangle$ of $S$. As a result, we can introduce for $S$ a density operator $\\rho_{AB}$ which is a simple projector of this state like\n",
    "\n",
    "$$  \\rho_{AB}  =  |\\Psi_{AB}\\rangle\\langle\\Psi_{AB}|  $$\n",
    "\n",
    "Here, the density matrix $\\rho_{AB} $ plays a similar role as the quantum state $\\Psi_{AB}\\rangle$ : it encodes all the information about the $S$ system (i.e. somekind of \"quantum ID card\"). Therefore, for a closed quantum system, using either the quantum state of the density matrix is totally equivalent. However,  \n",
    "\n",
    "However, the density matrices formalism can be very useful is\n",
    "\n",
    "\n",
    "__NB__ : The diagonal element of this operator are called \"populations\" whereas the off-diagonal elements are usually called \"coherences\". \n",
    "\n"
   ]
  },
  {
   "cell_type": "markdown",
   "metadata": {},
   "source": [
    "### II) Von Neuman Entropy and open quantum system theory\n",
    "\n",
    "##### $\\bullet$  Reduced Density Matrix (RDM) of the open quantum system $A$\n",
    "\n",
    "To better understand the VNE concept, we will employ the lingo from the ___open quantum system theory___. \n",
    "\n",
    "$\\Longrightarrow$ Generally, in nature it is not easy to get access to the full quantum state of the total system $S$. However, it is usually possible to conduct some experimental measures on a smaller part of $S$. Here we will follow the same idea and consider the subsystem $A$ as the only part of $S$ we can get access to. Starting from this, we can change our point of view on the problem. As $A$ is now the central system in our study, we consider the latter as an open quantum system that can interact with an environment given by the subsystem $B$. To describe the physics of $A$, we introduce the reduced density matrix (RDM) of this subsytem  \n",
    "\n",
    "$$ \\sigma_A = Tr_B[\\rho_{AB}]$$\n",
    "\n",
    "Where $Tr_B[...]$ represents the partial trace over the all the degres of freedom of the environment $B$.\n",
    "\n",
    "__NB :__ We could also build a reciprocal RDM considering $B$ as the central system and $A$ as an environment such as $ \\sigma_B = Tr_A[\\rho_{AB}]$.\n",
    "\n",
    "The reduced density matrix $\\sigma_A$ encodes all the information we can obtain from the system $A$ given its (possible) interactions with its environment $B$. If we realize a measure of an observable $\\mathcal{O}$ on the subsystem $A$ ($\\mathcal{O}$ only acting on the hilbert space of $A$), the mean result $\\langle \\mathcal{O} \\rangle$ we can obtain from this measure is given by \n",
    "\n",
    "$$  \\langle \\mathcal{O} \\rangle  = Tr_A[ \\mathcal{O}\\sigma_A ] $$\n",
    "\n",
    "Here, $\\langle \\mathcal{O} \\rangle$ is a result that can be effectively affected by the interaction between $A$ and its environment $B$.\n",
    "\n",
    "\n",
    "##### $\\bullet$  Von Neuman Entropy\n",
    "\n",
    "Let us now introduce the concept of \"Von Neuman Entropy\" (VNE). The idea of VNE is to provide a measure of the correlation existing between different quantum systems. By \"correlation\" we understand the following idea :\n",
    "\n",
    "- ___Correlation___ : the results of the physical interactions linking two systems $A$ and $B$. Due to these interactions, both systems are sharing a comon information which tends to entangle them. The more two systems are correlated, the more it becomes difficult to see them as independant subsystems. As a result, two strongly correlated subsystems $A$ and $B$ can't be considered as two separate systems but more as  as a single full system $S$. They are then sharing a same \"quantum identity\".\n",
    "\n",
    "\n",
    "\n",
    "Starting from this, the VNE gives a measure of the correlation existing between a subsystem $A$ share with its environment $B$ (i.e. their entanglement). Mathematically speaking, this measure called $S^{VN}$ is directly realized on the RDM on the subsystem $A$ (i.e. $\\sigma_a$) such as\n",
    "\n",
    "$$ S^{VN}(\\sigma_a) = -Tr\\big[\\sigma_A log_2[\\sigma_A]\\big] $$\n",
    "\n",
    "If we can diagonalize the RDM (analytically or numerically), the previous relation can be written in a more convenient way that is\n",
    "\n",
    "$$ S^{VN}(\\sigma_a) = -\\sum_l \\lambda_l^A log_2[\\lambda_l^A\\big] $$\n",
    "\n",
    "where the parameters $\\lambda_l^A $ are the eigenvalues of the RDM $\\sigma_a$ respecting the normalisation condition of the populations $\\sum_l \\lambda_l^A=1$.\n",
    "\n",
    "__NB :__ We can easily demonstrate that the square roots of the eigenvalues $\\sqrt{\\lambda_l^A}$ are actually the _Schmitt coefficients_ obtained when we realize a single value decomposition on the quantum state of the global system $S=A+B$. Furthermore, an important thing to know is that computing the eigenvalues of the RDM for the system $B$ would lead to the same eigevalues  for , i.e. $\\lambda_l^A = \\lambda_l^B $."
   ]
  },
  {
   "cell_type": "markdown",
   "metadata": {},
   "source": [
    "### III) Case 1 :  No entanglement between $A$ and $B$\n",
    "\n",
    "Let us first consider the particular case in which $A$ doesn't interact with its environment $B$. In this situation, the global state of the system $S=A+B$ can be written as \n",
    "\n",
    "$$  |\\Psi_{AB}\\rangle = |\\Psi_{A}\\rangle \\otimes |\\Psi_{B}\\rangle$$\n",
    "\n",
    "Here, the absence of physical correlation between $A$ and $B$ is encoded in the fact that we can separate the global state of the system into the tensorial product of the two quantum states $|\\Psi_{A}\\rangle$ and $|\\Psi_{B}\\rangle$ describing respectively the states of the two subsystems $A$ and $B$. These two states are supposed to be normalized such as $\\langle\\Psi_{A}|\\Psi_{A}\\rangle = 1$ and $\\langle\\Psi_{B}|\\Psi_{B}\\rangle = 1$ . \n",
    "\n",
    "Starting from this relation, let us now build the global density operator of the full system\n",
    "\n",
    "$$ \\rho_{AB} = |\\Psi_{A}\\rangle\\langle \\Psi_{A}| \\otimes |\\Psi_{B}\\rangle\\langle \\Psi_{B}| $$\n",
    "\n",
    "Now, let us build the reduced density matrix of the subsystem $A$ with the partial trace operation \n",
    "\n",
    "$$  \\sigma_A = Tr_B[\\rho_{AB}] = Tr_B\\big[ |\\Psi_{A}\\rangle\\langle \\Psi_{A}| \\otimes |\\Psi_{B}\\rangle\\langle \\Psi_{B}| \\big]$$\n",
    "\n",
    "We can take the projector $|\\Psi_{A}\\rangle\\langle \\Psi_{A}|$ out of the trace operation here. Therefore, as $Tr_B [ | \\Psi_{B}\\rangle\\langle \\Psi_{B}|] = \\langle\\Psi_{B}|\\Psi_{B}\\rangle = 1 $, we obtain a very simple form for the RDM of $A$ that is \n",
    "\n",
    "$$  \\sigma_A = |\\Psi_{A}\\rangle\\langle \\Psi_{A}| $$\n",
    "\n",
    "This result shows that the RDM of the subsystem $A$ is the projector of its own quantum state $|\\Psi_{A}\\rangle$ when $A$ is not interacting with its environment $B$.\n",
    "\n",
    "In this context, if we want to compute the VNE of $A$, we can directly observe one important eigenvector of the RDM like\n",
    "\n",
    "$$ \\sigma_a |\\Psi_{A}\\rangle  =  |\\Psi_{A}\\rangle \\  \\text{with eigenvalue : }  \\lambda^A = 1 $$\n",
    "\n",
    "And because of the normalization of the populations of the density matrices, we know that all other eigenvector of the RDM $\\sigma_a$ are degenerated and share a same eigevalue that is zero. As a consequence, the VNE of the susbsystem $A$ gives\n",
    "\n",
    "$$ S^{VN}(\\sigma_a) = -  1  \\times log_2[ 1 ]   = 0 $$\n",
    "\n",
    "This result shows that when the susbsystem $A$ is not interacting with its environment $B$, the VNE of $A$ is null (actually it would be the same on the other side if we were working with the RDM of $B$). In other words, due to the absence of correlation, the two system remain independant : there is no information shared by the two systems and doing a measure on $A$ (or $B$) would not be depending on the properties of the other subsystem $B$ (or $A$). \n",
    "\n",
    "As a complementary measure for the VNE, the idempotency  of the RDM is a property that is usually introduced to define the \"purity\" of the quantum state of a system. Here, because of the absence of correlation, the RDM $\\sigma_a$ is idempotent which implies\n",
    "\n",
    "$$ \\sigma_a^2 = \\sigma_a  \\Longrightarrow  $$\n",
    "\n",
    "Following this observation we can introduce $\\mathcal{P}(\\sigma_a)$ the measure of purity for the RDM defined as\n",
    "\n",
    "$$ \\mathcal{P}(\\sigma_a) = Tr_A[\\sigma_a^2] = 1 $$\n",
    "\n",
    "This result stems from the fact that the RDM $\\sigma_a$ is a projector on only one state. In this context, the system is said to be in a \"pure\" state : a situation for which we know all the necessary information."
   ]
  },
  {
   "cell_type": "markdown",
   "metadata": {},
   "source": [
    "### IV) Case 2 :  Strong entanglement of $A$ and $B$  \n",
    "\n",
    "Now let us move to the most extreme case of correlation. In this situation, we suppose both the two-level systems $A$ and $B$ have interacted together in the past. This precedent interaction has transformed the state of the global system $S$ into a strongly entangled Bell state that is\n",
    "\n",
    "$$  |\\Psi_{AB}\\rangle = \\frac{1}{\\sqrt{2}} \\big(|1_A 0_B\\rangle + |0_A 1_B\\rangle \\big)$$\n",
    "\n",
    "Here, we clearly see that measuring the energy of any local subsystem constrains the result obtained for the other subsystem. In other words : \n",
    "- Obtaining an excited state $|1_A\\rangle$ for the system $A$ projects the state of the second subsystem $B$ onto its ground state $|0_B\\rangle$.\n",
    "- On contrary, obtaining a ground state $|0_A\\rangle$ for the system $A$ projects the state $B$ onto its excited state $|1_B\\rangle$.\n",
    "\n",
    "__NB :__  Note that here both situation occur with a same proability of 1/2.\n",
    "\n",
    "Here again, we first build the density operator for the full system \n",
    "$$ \\rho_{AB} = \\frac{1}{2} \\big( |0_A 1_B\\rangle \\langle 0_A 1_B | + |1_A 0_B\\rangle \\langle 1_A 0_B | + |1_A 0_B\\rangle \\langle 0_A 1_B | + |0_A 1_B\\rangle \\langle 1_A 0_B |  \\big) $$\n",
    "\n",
    "Doing the partial trace over the degrees of freedom of $B$ gives the RDM of the susbsystem $A$ which is \n",
    "\n",
    "$$  \\sigma_A = Tr_B[\\rho_{AB}] = \\frac{1}{2} (|0_A \\rangle \\langle 0_A |  + |1_A\\rangle \\langle 1_A | ) $$\n",
    "\n",
    "Starting from this RDM we can then evaluate the VNE for the subsystem $A$. In this case, we directly see that the RDM is diagonal with two degenerated eigenvalues of 1/2. As a consequence, the VNE becomes\n",
    "\n",
    "$$ S^{VN}(\\sigma_a) = -2 \\times \\frac{1}{2}    \\times log_2\\big[ \\frac{1}{2} \\big] = 1  $$\n",
    "\n",
    "This result is the highest value of the entropy for a subsystem $A$. \n",
    "\n",
    "Because of the presence of correlation, the RDM $\\sigma_a$ is not a projector on one but on two vectors now. As a consequence, the RDM loses its idempotency\n",
    "\n",
    "$$  \\sigma_a \\neq \\sigma_a^2 = \\big(\\frac{1}{2} (|0_A \\rangle \\langle 0_A |  + |1_A\\rangle \\langle 1_A | )\\big)^2 = \\frac{\\sigma_a}{2}   $$\n",
    "\n",
    "In this context the purity of the system is  \n",
    "\n",
    "$$ \\mathcal{P}(\\sigma_a) =  Tr_A[\\sigma_a^2] =\\frac{1}{2}  $$\n",
    "\n",
    "Which implies that the quantum state of a system is not pure anymore : we have here a mixed state resulting from the correlation between $A$ and its environment $B$.\n"
   ]
  },
  {
   "cell_type": "markdown",
   "metadata": {},
   "source": [
    "### V) Case 3 :  Varying entanglement of $A$ and $B$  \n",
    "\n",
    "Let us now treat the case of two susbsytem presenting an intermediate entanglement. To proceed, we introduce a parametrized quantum state for the full system $S$ such as\n",
    "\n",
    "$$  |\\Psi_{AB}\\rangle = \\sqrt{C} |1_A 0_B\\rangle + \\sqrt{1-C}|0_A 1_B\\rangle$$\n",
    "\n",
    "Here, $C \\in [0,1]$ is a parameter that allows to describes various cases of entanglement between $A$ and $B$. For instance, when $C =1$, the system $S$ describes a separable state such as\n",
    "\n",
    "$$  | \\Psi_{AB} \\rangle =  | 1_A 0_B \\rangle = | 1_A   \\rangle \\otimes |0_B \\rangle $$ \n",
    "\n",
    "In this situation, both system are totaly uncorrelated. If now we take $C=1/2$, we retrieve the famous Bell state introduced precedently\n",
    "\n",
    "$$  |\\Psi_{AB}\\rangle = \\frac{1}{\\sqrt{2}} \\big(|1_A 0_B\\rangle + |0_A 1_B\\rangle \\big)$$\n",
    "\n",
    "Finally, if we take $C=0$, we switch to another separable state that is\n",
    "\n",
    "$$  |\\Psi_{AB}\\rangle =  |0_A 1_B\\rangle = |0_A  \\rangle  \\otimes |  1_B\\rangle $$\n",
    "\n",
    "Starting from this, we can build the parametrized RDM for the system $A$. After some calculation, we finally obtain \n",
    "\n",
    "$$ \\sigma_A = Tr_B[\\rho_{AB}] = C |0_A \\rangle \\langle 0_A |  + (1-C)|1_A\\rangle \\langle 1_A |   $$\n",
    "\n",
    "Which leads the VNE \n",
    "\n",
    "$$ S^{VN}(\\sigma_a) = - C log_2\\big[C\\big] - (1-C) log_2\\big[(1-C)\\big]  $$\n",
    "\n",
    "In a complementary way, we can also evaluate the purity of the system\n",
    "\n",
    "$$ \\mathcal{P}(\\sigma_a) =  Tr_A[\\sigma_a^2] = 1-2C(1-C)   $$\n",
    "\n",
    "\n",
    "Let us now plot the evolution of the VNE and the purity in function of $C$."
   ]
  },
  {
   "cell_type": "code",
   "execution_count": 2,
   "metadata": {},
   "outputs": [
    {
     "data": {
      "image/png": "[encoded data removed]",
      "text/plain": [
       "<Figure size 432x288 with 1 Axes>"
      ]
     },
     "metadata": {
      "needs_background": "light"
     },
     "output_type": "display_data"
    }
   ],
   "source": [
    "import matplotlib.pyplot as plt\n",
    "import numpy as np\n",
    "\n",
    "C = np.arange(0.001, 1., 0.001)\n",
    "plt.plot( C, - C*np.log2(C) - (1-C)*np.log2((1.-C)), linewidth=2)\n",
    "plt.ylabel( r'$S^{VN}(\\sigma_A)$', size=20 )\n",
    "plt.xlabel(r'$C$', size=20)\n",
    "plt.grid(True)\n",
    "plt.show()"
   ]
  },
  {
   "cell_type": "code",
   "execution_count": 11,
   "metadata": {},
   "outputs": [
    {
     "data": {
      "image/png": "[encoded data removed]",
      "text/plain": [
       "<Figure size 432x288 with 1 Axes>"
      ]
     },
     "metadata": {
      "needs_background": "light"
     },
     "output_type": "display_data"
    }
   ],
   "source": [
    "import matplotlib.pyplot as plt\n",
    "import numpy as np\n",
    "\n",
    "C = np.arange(0.001, 1., 0.001)\n",
    "plt.plot( C, 1.-2.*C*(1.-C), linewidth=2, color=\"red\")\n",
    "plt.ylabel( r'$\\mathcal{P}(\\sigma_A)$', size=20 )\n",
    "plt.xlabel(r'$C$', size=20)\n",
    "plt.grid(True)\n",
    "plt.show()"
   ]
  },
  {
   "cell_type": "markdown",
   "metadata": {},
   "source": [
    "Here, we see that the VNE evolves on a limited interval $S^{VN} \\in [0,1]$ whereas the purity is  $\\mathcal{P}(\\sigma_A) \\in [1/2,1]$. When the parameter $C=0$ or $1$ the VNE is null meaning that the system $A$ is not entangled with its environment $B$ : the states of the two systems are totally decorrelated. At these two points, the purity is unity which confirms the fact that a pure states is reached for $A$.\n",
    "\n",
    "The maximal value of the VNE arises for the specific value of $C=1/2$ for which the global system switch to a bell state. In this situation the two subsytems are so entangled that the latter share a same quantum identity : our information on the properties of one subsystem strongly depends on the state of the second system. At this precise point the purity of the system reaches its lowest value of 1/2.\n",
    "\n",
    "Now, if $C$ evolves in between these different extreme cases, the VNE exhibits intermediate values. Such a situation indicates that the subsystem $A$ still preserves a certain memory of its state : the entanglement between the two subsystems is present but weaker compared to the Bell state. As a result, the information shared between $A$ and $B$ is of course present but less important compared to the case of two pure separable states.\n"
   ]
  },
  {
   "cell_type": "code",
   "execution_count": null,
   "metadata": {},
   "outputs": [],
   "source": []
  }
 ],
 "metadata": {
  "kernelspec": {
   "display_name": "Python 3",
   "language": "python",
   "name": "python3"
  },
  "language_info": {
   "codemirror_mode": {
    "name": "ipython",
    "version": 3
   },
   "file_extension": ".py",
   "mimetype": "text/x-python",
   "name": "python",
   "nbconvert_exporter": "python",
   "pygments_lexer": "ipython3",
   "version": "3.7.5"
  }
 },
 "nbformat": 4,
 "nbformat_minor": 2
}
